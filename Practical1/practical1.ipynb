{
 "metadata": {
  "name": "practical1"
 },
 "nbformat": 3,
 "nbformat_minor": 0,
 "worksheets": [
  {
   "cells": [
    {
     "cell_type": "markdown",
     "metadata": {},
     "source": [
      "book_mean.py\n",
      "\n",
      "* computes the global mean of the training data\n",
      "* loads the list of books (books.csv)\n",
      "* computes the mean of all the book ratings\n",
      "* for each test query:\n",
      " * if count > 0: set it to the average for this book\n",
      " * else: set it to the global average\n"
     ]
    },
    {
     "cell_type": "code",
     "collapsed": false,
     "input": [],
     "language": "python",
     "metadata": {},
     "outputs": []
    }
   ],
   "metadata": {}
  }
 ]
}